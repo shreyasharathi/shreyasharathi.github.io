{
 "cells": [
  {
   "cell_type": "markdown",
   "id": "38048bba",
   "metadata": {
    "papermill": {
     "duration": 0.010188,
     "end_time": "2023-12-02T17:01:39.599545",
     "exception": false,
     "start_time": "2023-12-02T17:01:39.589357",
     "status": "completed"
    },
    "tags": []
   },
   "source": [
    "## **Import**"
   ]
  },
  {
   "cell_type": "code",
   "execution_count": 4,
   "id": "a0eb7d5f",
   "metadata": {
    "_cell_guid": "b1076dfc-b9ad-4769-8c92-a6c4dae69d19",
    "_uuid": "8f2839f25d086af736a60e9eeb907d3b93b6e0e5",
    "papermill": {
     "duration": 3.230332,
     "end_time": "2023-12-02T17:01:42.839744",
     "exception": false,
     "start_time": "2023-12-02T17:01:39.609412",
     "status": "completed"
    },
    "tags": []
   },
   "outputs": [],
   "source": [
    "import numpy as np\n",
    "import pandas as pd\n",
    "import matplotlib.pyplot as plt\n",
    "import seaborn as sns\n",
    "import plotly.express as px\n",
    "\n",
    "from sklearn.metrics import  classification_report , accuracy_score , confusion_matrix\n",
    "from sklearn.model_selection import train_test_split\n",
    "\n",
    "from sklearn.linear_model import LogisticRegression\n",
    "from category_encoders import OrdinalEncoder\n",
    "from sklearn.ensemble import RandomForestClassifier\n",
    "\n",
    "import warnings\n",
    "warnings.filterwarnings('ignore')"
   ]
  },
  {
   "cell_type": "markdown",
   "id": "4e2b83e9",
   "metadata": {
    "papermill": {
     "duration": 0.009427,
     "end_time": "2023-12-02T17:01:42.859676",
     "exception": false,
     "start_time": "2023-12-02T17:01:42.850249",
     "status": "completed"
    },
    "tags": []
   },
   "source": [
    "## **EDA**"
   ]
  },
  {
   "cell_type": "code",
   "execution_count": 5,
   "id": "432900cc",
   "metadata": {
    "papermill": {
     "duration": 0.060674,
     "end_time": "2023-12-02T17:01:42.930090",
     "exception": false,
     "start_time": "2023-12-02T17:01:42.869416",
     "status": "completed"
    },
    "tags": []
   },
   "outputs": [
    {
     "data": {
      "text/html": [
       "<div>\n",
       "<style scoped>\n",
       "    .dataframe tbody tr th:only-of-type {\n",
       "        vertical-align: middle;\n",
       "    }\n",
       "\n",
       "    .dataframe tbody tr th {\n",
       "        vertical-align: top;\n",
       "    }\n",
       "\n",
       "    .dataframe thead th {\n",
       "        text-align: right;\n",
       "    }\n",
       "</style>\n",
       "<table border=\"1\" class=\"dataframe\">\n",
       "  <thead>\n",
       "    <tr style=\"text-align: right;\">\n",
       "      <th></th>\n",
       "      <th>Age</th>\n",
       "      <th>Sex</th>\n",
       "      <th>BP</th>\n",
       "      <th>Cholesterol</th>\n",
       "      <th>Na_to_K</th>\n",
       "      <th>Drug</th>\n",
       "    </tr>\n",
       "  </thead>\n",
       "  <tbody>\n",
       "    <tr>\n",
       "      <th>0</th>\n",
       "      <td>23</td>\n",
       "      <td>F</td>\n",
       "      <td>HIGH</td>\n",
       "      <td>HIGH</td>\n",
       "      <td>25.355</td>\n",
       "      <td>DrugY</td>\n",
       "    </tr>\n",
       "    <tr>\n",
       "      <th>1</th>\n",
       "      <td>47</td>\n",
       "      <td>M</td>\n",
       "      <td>LOW</td>\n",
       "      <td>HIGH</td>\n",
       "      <td>13.093</td>\n",
       "      <td>drugC</td>\n",
       "    </tr>\n",
       "    <tr>\n",
       "      <th>2</th>\n",
       "      <td>47</td>\n",
       "      <td>M</td>\n",
       "      <td>LOW</td>\n",
       "      <td>HIGH</td>\n",
       "      <td>10.114</td>\n",
       "      <td>drugC</td>\n",
       "    </tr>\n",
       "    <tr>\n",
       "      <th>3</th>\n",
       "      <td>28</td>\n",
       "      <td>F</td>\n",
       "      <td>NORMAL</td>\n",
       "      <td>HIGH</td>\n",
       "      <td>7.798</td>\n",
       "      <td>drugX</td>\n",
       "    </tr>\n",
       "    <tr>\n",
       "      <th>4</th>\n",
       "      <td>61</td>\n",
       "      <td>F</td>\n",
       "      <td>LOW</td>\n",
       "      <td>HIGH</td>\n",
       "      <td>18.043</td>\n",
       "      <td>DrugY</td>\n",
       "    </tr>\n",
       "    <tr>\n",
       "      <th>...</th>\n",
       "      <td>...</td>\n",
       "      <td>...</td>\n",
       "      <td>...</td>\n",
       "      <td>...</td>\n",
       "      <td>...</td>\n",
       "      <td>...</td>\n",
       "    </tr>\n",
       "    <tr>\n",
       "      <th>195</th>\n",
       "      <td>56</td>\n",
       "      <td>F</td>\n",
       "      <td>LOW</td>\n",
       "      <td>HIGH</td>\n",
       "      <td>11.567</td>\n",
       "      <td>drugC</td>\n",
       "    </tr>\n",
       "    <tr>\n",
       "      <th>196</th>\n",
       "      <td>16</td>\n",
       "      <td>M</td>\n",
       "      <td>LOW</td>\n",
       "      <td>HIGH</td>\n",
       "      <td>12.006</td>\n",
       "      <td>drugC</td>\n",
       "    </tr>\n",
       "    <tr>\n",
       "      <th>197</th>\n",
       "      <td>52</td>\n",
       "      <td>M</td>\n",
       "      <td>NORMAL</td>\n",
       "      <td>HIGH</td>\n",
       "      <td>9.894</td>\n",
       "      <td>drugX</td>\n",
       "    </tr>\n",
       "    <tr>\n",
       "      <th>198</th>\n",
       "      <td>23</td>\n",
       "      <td>M</td>\n",
       "      <td>NORMAL</td>\n",
       "      <td>NORMAL</td>\n",
       "      <td>14.020</td>\n",
       "      <td>drugX</td>\n",
       "    </tr>\n",
       "    <tr>\n",
       "      <th>199</th>\n",
       "      <td>40</td>\n",
       "      <td>F</td>\n",
       "      <td>LOW</td>\n",
       "      <td>NORMAL</td>\n",
       "      <td>11.349</td>\n",
       "      <td>drugX</td>\n",
       "    </tr>\n",
       "  </tbody>\n",
       "</table>\n",
       "<p>200 rows × 6 columns</p>\n",
       "</div>"
      ],
      "text/plain": [
       "     Age Sex      BP Cholesterol  Na_to_K   Drug\n",
       "0     23   F    HIGH        HIGH   25.355  DrugY\n",
       "1     47   M     LOW        HIGH   13.093  drugC\n",
       "2     47   M     LOW        HIGH   10.114  drugC\n",
       "3     28   F  NORMAL        HIGH    7.798  drugX\n",
       "4     61   F     LOW        HIGH   18.043  DrugY\n",
       "..   ...  ..     ...         ...      ...    ...\n",
       "195   56   F     LOW        HIGH   11.567  drugC\n",
       "196   16   M     LOW        HIGH   12.006  drugC\n",
       "197   52   M  NORMAL        HIGH    9.894  drugX\n",
       "198   23   M  NORMAL      NORMAL   14.020  drugX\n",
       "199   40   F     LOW      NORMAL   11.349  drugX\n",
       "\n",
       "[200 rows x 6 columns]"
      ]
     },
     "execution_count": 5,
     "metadata": {},
     "output_type": "execute_result"
    }
   ],
   "source": [
    "df = pd.read_csv(\"drug200.csv\")\n",
    "df"
   ]
  },
  {
   "cell_type": "code",
   "execution_count": 4,
   "id": "3f190852",
   "metadata": {
    "papermill": {
     "duration": 0.033742,
     "end_time": "2023-12-02T17:01:43.003189",
     "exception": false,
     "start_time": "2023-12-02T17:01:42.969447",
     "status": "completed"
    },
    "tags": []
   },
   "outputs": [
    {
     "name": "stdout",
     "output_type": "stream",
     "text": [
      "<class 'pandas.core.frame.DataFrame'>\n",
      "RangeIndex: 200 entries, 0 to 199\n",
      "Data columns (total 6 columns):\n",
      " #   Column       Non-Null Count  Dtype  \n",
      "---  ------       --------------  -----  \n",
      " 0   Age          200 non-null    int64  \n",
      " 1   Sex          200 non-null    object \n",
      " 2   BP           200 non-null    object \n",
      " 3   Cholesterol  200 non-null    object \n",
      " 4   Na_to_K      200 non-null    float64\n",
      " 5   Drug         200 non-null    object \n",
      "dtypes: float64(1), int64(1), object(4)\n",
      "memory usage: 9.5+ KB\n"
     ]
    }
   ],
   "source": [
    "df.info()"
   ]
  },
  {
   "cell_type": "code",
   "execution_count": 6,
   "id": "9fe0afd6",
   "metadata": {
    "papermill": {
     "duration": 0.021732,
     "end_time": "2023-12-02T17:01:43.076228",
     "exception": false,
     "start_time": "2023-12-02T17:01:43.054496",
     "status": "completed"
    },
    "tags": []
   },
   "outputs": [
    {
     "data": {
      "text/plain": [
       "0"
      ]
     },
     "execution_count": 6,
     "metadata": {},
     "output_type": "execute_result"
    }
   ],
   "source": [
    "df.duplicated().sum()"
   ]
  },
  {
   "cell_type": "code",
   "execution_count": 7,
   "id": "186e5249",
   "metadata": {
    "papermill": {
     "duration": 0.296594,
     "end_time": "2023-12-02T17:01:43.384197",
     "exception": false,
     "start_time": "2023-12-02T17:01:43.087603",
     "status": "completed"
    },
    "tags": []
   },
   "outputs": [
    {
     "data": {
      "image/png": "[encoded data removed]",
      "text/plain": [
       "<Figure size 640x480 with 1 Axes>"
      ]
     },
     "metadata": {},
     "output_type": "display_data"
    }
   ],
   "source": [
    "import seaborn as sns\n",
    "sns.countplot(x=df['Drug'])\n",
    "plt.title('Drug Distribution');"
   ]
  },
  {
   "cell_type": "code",
   "execution_count": 8,
   "id": "5c05d523",
   "metadata": {
    "papermill": {
     "duration": 0.402773,
     "end_time": "2023-12-02T17:01:43.797968",
     "exception": false,
     "start_time": "2023-12-02T17:01:43.395195",
     "status": "completed"
    },
    "tags": []
   },
   "outputs": [
    {
     "data": {
      "image/png": "[encoded data removed]",
      "text/plain": [
       "<Figure size 640x480 with 1 Axes>"
      ]
     },
     "metadata": {},
     "output_type": "display_data"
    }
   ],
   "source": [
    "sns.distplot(df['Age']);"
   ]
  },
  {
   "cell_type": "code",
   "execution_count": 9,
   "id": "33dba4ac",
   "metadata": {
    "papermill": {
     "duration": 0.311198,
     "end_time": "2023-12-02T17:01:44.128726",
     "exception": false,
     "start_time": "2023-12-02T17:01:43.817528",
     "status": "completed"
    },
    "tags": []
   },
   "outputs": [
    {
     "data": {
      "image/png": "[encoded data removed]",
      "text/plain": [
       "<Figure size 640x480 with 1 Axes>"
      ]
     },
     "metadata": {},
     "output_type": "display_data"
    }
   ],
   "source": [
    "sns.distplot(df['Na_to_K']);"
   ]
  },
  {
   "cell_type": "code",
   "execution_count": 10,
   "id": "90ff9d0a",
   "metadata": {
    "papermill": {
     "duration": 0.023525,
     "end_time": "2023-12-02T17:01:44.164416",
     "exception": false,
     "start_time": "2023-12-02T17:01:44.140891",
     "status": "completed"
    },
    "tags": []
   },
   "outputs": [
    {
     "data": {
      "text/plain": [
       "Age            0\n",
       "Sex            0\n",
       "BP             0\n",
       "Cholesterol    0\n",
       "Na_to_K        0\n",
       "Drug           0\n",
       "dtype: int64"
      ]
     },
     "execution_count": 10,
     "metadata": {},
     "output_type": "execute_result"
    }
   ],
   "source": [
    "df.isnull().sum()"
   ]
  },
  {
   "cell_type": "code",
   "execution_count": 11,
   "id": "e8722161",
   "metadata": {
    "papermill": {
     "duration": 0.334409,
     "end_time": "2023-12-02T17:01:44.513031",
     "exception": false,
     "start_time": "2023-12-02T17:01:44.178622",
     "status": "completed"
    },
    "tags": []
   },
   "outputs": [
    {
     "data": {
      "image/png": "[encoded data removed]",
      "text/plain": [
       "<Figure size 640x480 with 1 Axes>"
      ]
     },
     "metadata": {},
     "output_type": "display_data"
    }
   ],
   "source": [
    "sns.set_theme(style=\"darkgrid\")\n",
    "sns.countplot(data=df ,x= df['Sex'] , palette='rocket')\n",
    "plt.xlabel('Gender (F=female , M=male)')\n",
    "plt.ylabel('Total')\n",
    "plt.title('Gender distribution');"
   ]
  },
  {
   "cell_type": "code",
   "execution_count": 12,
   "id": "8a840aeb",
   "metadata": {
    "papermill": {
     "duration": 0.346838,
     "end_time": "2023-12-02T17:01:44.873103",
     "exception": false,
     "start_time": "2023-12-02T17:01:44.526265",
     "status": "completed"
    },
    "tags": []
   },
   "outputs": [
    {
     "data": {
      "image/png": "[encoded data removed]",
      "text/plain": [
       "<Figure size 640x480 with 1 Axes>"
      ]
     },
     "metadata": {},
     "output_type": "display_data"
    }
   ],
   "source": [
    "sns.countplot(y=df['BP'], data=df , palette=\"crest\")\n",
    "plt.ylabel('Blood Pressure')\n",
    "plt.xlabel('Total')\n",
    "plt.title('Blood Pressure Distribution');"
   ]
  },
  {
   "cell_type": "code",
   "execution_count": 13,
   "id": "360f54f6",
   "metadata": {
    "papermill": {
     "duration": 0.385517,
     "end_time": "2023-12-02T17:01:45.272093",
     "exception": false,
     "start_time": "2023-12-02T17:01:44.886576",
     "status": "completed"
    },
    "tags": []
   },
   "outputs": [
    {
     "data": {
      "image/png": "[encoded data removed]",
      "text/plain": [
       "<Figure size 640x480 with 1 Axes>"
      ]
     },
     "metadata": {},
     "output_type": "display_data"
    }
   ],
   "source": [
    "sns.set_theme(style=\"ticks\")\n",
    "sns.scatterplot(x=df.Age[df.Sex=='F'], y=df.Na_to_K[(df.Sex=='F')], c=\"Red\" , )\n",
    "sns.scatterplot(x=df.Age[df.Sex=='M'], y=df.Na_to_K[(df.Sex=='M')], c=\"Blue\")\n",
    "plt.title('Scattering the Na_to_K based on Age')\n",
    "plt.legend([\"Female\", \"Male\"])\n",
    "plt.xlabel(\"Age\")\n",
    "plt.ylabel(\"Na_to_K\");\n",
    "plt.grid(visible=False)"
   ]
  },
  {
   "cell_type": "markdown",
   "id": "80c59fe0",
   "metadata": {
    "papermill": {
     "duration": 0.012952,
     "end_time": "2023-12-02T17:01:45.298303",
     "exception": false,
     "start_time": "2023-12-02T17:01:45.285351",
     "status": "completed"
    },
    "tags": []
   },
   "source": [
    "## **Preprocessing**"
   ]
  },
  {
   "cell_type": "markdown",
   "id": "0bb728f0",
   "metadata": {
    "papermill": {
     "duration": 0.012917,
     "end_time": "2023-12-02T17:01:45.324263",
     "exception": false,
     "start_time": "2023-12-02T17:01:45.311346",
     "status": "completed"
    },
    "tags": []
   },
   "source": [
    "### Define features (X) and target (y)"
   ]
  },
  {
   "cell_type": "code",
   "execution_count": 14,
   "id": "e28ff078",
   "metadata": {
    "papermill": {
     "duration": 0.021767,
     "end_time": "2023-12-02T17:01:45.359223",
     "exception": false,
     "start_time": "2023-12-02T17:01:45.337456",
     "status": "completed"
    },
    "tags": []
   },
   "outputs": [],
   "source": [
    "X = df.drop('Drug' , axis='columns')\n",
    "y = df['Drug']"
   ]
  },
  {
   "cell_type": "code",
   "execution_count": 15,
   "id": "819c9ba1",
   "metadata": {
    "papermill": {
     "duration": 0.024163,
     "end_time": "2023-12-02T17:01:45.397354",
     "exception": false,
     "start_time": "2023-12-02T17:01:45.373191",
     "status": "completed"
    },
    "tags": []
   },
   "outputs": [],
   "source": [
    "X = pd.get_dummies(X)"
   ]
  },
  {
   "cell_type": "markdown",
   "id": "eca3ce21",
   "metadata": {
    "papermill": {
     "duration": 0.012743,
     "end_time": "2023-12-02T17:01:45.423350",
     "exception": false,
     "start_time": "2023-12-02T17:01:45.410607",
     "status": "completed"
    },
    "tags": []
   },
   "source": [
    "### Splitting"
   ]
  },
  {
   "cell_type": "code",
   "execution_count": 16,
   "id": "2d455fe5",
   "metadata": {
    "papermill": {
     "duration": 0.021676,
     "end_time": "2023-12-02T17:01:45.457935",
     "exception": false,
     "start_time": "2023-12-02T17:01:45.436259",
     "status": "completed"
    },
    "tags": []
   },
   "outputs": [],
   "source": [
    "X_train , X_test , y_train , y_test = train_test_split(X , y , test_size=0.2 , shuffle= True , random_state=42)"
   ]
  },
  {
   "cell_type": "markdown",
   "id": "7a4dab6e",
   "metadata": {
    "papermill": {
     "duration": 0.013195,
     "end_time": "2023-12-02T17:01:45.528666",
     "exception": false,
     "start_time": "2023-12-02T17:01:45.515471",
     "status": "completed"
    },
    "tags": []
   },
   "source": [
    "## **Machine Learning Models**"
   ]
  },
  {
   "cell_type": "markdown",
   "id": "24b80b1f",
   "metadata": {
    "papermill": {
     "duration": 0.012865,
     "end_time": "2023-12-02T17:01:45.554944",
     "exception": false,
     "start_time": "2023-12-02T17:01:45.542079",
     "status": "completed"
    },
    "tags": []
   },
   "source": [
    "### **1. Logistic Regression**"
   ]
  },
  {
   "cell_type": "code",
   "execution_count": 17,
   "id": "03c8adaf",
   "metadata": {
    "papermill": {
     "duration": 0.330275,
     "end_time": "2023-12-02T17:01:45.898328",
     "exception": false,
     "start_time": "2023-12-02T17:01:45.568053",
     "status": "completed"
    },
    "tags": []
   },
   "outputs": [
    {
     "data": {
      "text/html": [
       "<style>#sk-container-id-1 {color: black;}#sk-container-id-1 pre{padding: 0;}#sk-container-id-1 div.sk-toggleable {background-color: white;}#sk-container-id-1 label.sk-toggleable__label {cursor: pointer;display: block;width: 100%;margin-bottom: 0;padding: 0.3em;box-sizing: border-box;text-align: center;}#sk-container-id-1 label.sk-toggleable__label-arrow:before {content: \"▸\";float: left;margin-right: 0.25em;color: #696969;}#sk-container-id-1 label.sk-toggleable__label-arrow:hover:before {color: black;}#sk-container-id-1 div.sk-estimator:hover label.sk-toggleable__label-arrow:before {color: black;}#sk-container-id-1 div.sk-toggleable__content {max-height: 0;max-width: 0;overflow: hidden;text-align: left;background-color: #f0f8ff;}#sk-container-id-1 div.sk-toggleable__content pre {margin: 0.2em;color: black;border-radius: 0.25em;background-color: #f0f8ff;}#sk-container-id-1 input.sk-toggleable__control:checked~div.sk-toggleable__content {max-height: 200px;max-width: 100%;overflow: auto;}#sk-container-id-1 input.sk-toggleable__control:checked~label.sk-toggleable__label-arrow:before {content: \"▾\";}#sk-container-id-1 div.sk-estimator input.sk-toggleable__control:checked~label.sk-toggleable__label {background-color: #d4ebff;}#sk-container-id-1 div.sk-label input.sk-toggleable__control:checked~label.sk-toggleable__label {background-color: #d4ebff;}#sk-container-id-1 input.sk-hidden--visually {border: 0;clip: rect(1px 1px 1px 1px);clip: rect(1px, 1px, 1px, 1px);height: 1px;margin: -1px;overflow: hidden;padding: 0;position: absolute;width: 1px;}#sk-container-id-1 div.sk-estimator {font-family: monospace;background-color: #f0f8ff;border: 1px dotted black;border-radius: 0.25em;box-sizing: border-box;margin-bottom: 0.5em;}#sk-container-id-1 div.sk-estimator:hover {background-color: #d4ebff;}#sk-container-id-1 div.sk-parallel-item::after {content: \"\";width: 100%;border-bottom: 1px solid gray;flex-grow: 1;}#sk-container-id-1 div.sk-label:hover label.sk-toggleable__label {background-color: #d4ebff;}#sk-container-id-1 div.sk-serial::before {content: \"\";position: absolute;border-left: 1px solid gray;box-sizing: border-box;top: 0;bottom: 0;left: 50%;z-index: 0;}#sk-container-id-1 div.sk-serial {display: flex;flex-direction: column;align-items: center;background-color: white;padding-right: 0.2em;padding-left: 0.2em;position: relative;}#sk-container-id-1 div.sk-item {position: relative;z-index: 1;}#sk-container-id-1 div.sk-parallel {display: flex;align-items: stretch;justify-content: center;background-color: white;position: relative;}#sk-container-id-1 div.sk-item::before, #sk-container-id-1 div.sk-parallel-item::before {content: \"\";position: absolute;border-left: 1px solid gray;box-sizing: border-box;top: 0;bottom: 0;left: 50%;z-index: -1;}#sk-container-id-1 div.sk-parallel-item {display: flex;flex-direction: column;z-index: 1;position: relative;background-color: white;}#sk-container-id-1 div.sk-parallel-item:first-child::after {align-self: flex-end;width: 50%;}#sk-container-id-1 div.sk-parallel-item:last-child::after {align-self: flex-start;width: 50%;}#sk-container-id-1 div.sk-parallel-item:only-child::after {width: 0;}#sk-container-id-1 div.sk-dashed-wrapped {border: 1px dashed gray;margin: 0 0.4em 0.5em 0.4em;box-sizing: border-box;padding-bottom: 0.4em;background-color: white;}#sk-container-id-1 div.sk-label label {font-family: monospace;font-weight: bold;display: inline-block;line-height: 1.2em;}#sk-container-id-1 div.sk-label-container {text-align: center;}#sk-container-id-1 div.sk-container {/* jupyter's `normalize.less` sets `[hidden] { display: none; }` but bootstrap.min.css set `[hidden] { display: none !important; }` so we also need the `!important` here to be able to override the default hidden behavior on the sphinx rendered scikit-learn.org. See: https://github.com/scikit-learn/scikit-learn/issues/21755 */display: inline-block !important;position: relative;}#sk-container-id-1 div.sk-text-repr-fallback {display: none;}</style><div id=\"sk-container-id-1\" class=\"sk-top-container\"><div class=\"sk-text-repr-fallback\"><pre>LogisticRegression(max_iter=1500)</pre><b>In a Jupyter environment, please rerun this cell to show the HTML representation or trust the notebook. <br />On GitHub, the HTML representation is unable to render, please try loading this page with nbviewer.org.</b></div><div class=\"sk-container\" hidden><div class=\"sk-item\"><div class=\"sk-estimator sk-toggleable\"><input class=\"sk-toggleable__control sk-hidden--visually\" id=\"sk-estimator-id-1\" type=\"checkbox\" checked><label for=\"sk-estimator-id-1\" class=\"sk-toggleable__label sk-toggleable__label-arrow\">LogisticRegression</label><div class=\"sk-toggleable__content\"><pre>LogisticRegression(max_iter=1500)</pre></div></div></div></div></div>"
      ],
      "text/plain": [
       "LogisticRegression(max_iter=1500)"
      ]
     },
     "execution_count": 17,
     "metadata": {},
     "output_type": "execute_result"
    }
   ],
   "source": [
    "lr_model = LogisticRegression(max_iter=1500)\n",
    "lr_model.fit(X_train , y_train)"
   ]
  },
  {
   "cell_type": "code",
   "execution_count": 18,
   "id": "74c5347c",
   "metadata": {
    "papermill": {
     "duration": 0.026617,
     "end_time": "2023-12-02T17:01:45.939130",
     "exception": false,
     "start_time": "2023-12-02T17:01:45.912513",
     "status": "completed"
    },
    "tags": []
   },
   "outputs": [
    {
     "data": {
      "text/plain": [
       "0.99375"
      ]
     },
     "execution_count": 18,
     "metadata": {},
     "output_type": "execute_result"
    }
   ],
   "source": [
    "lr_model.score(X_train , y_train)"
   ]
  },
  {
   "cell_type": "code",
   "execution_count": 19,
   "id": "2f441979",
   "metadata": {
    "papermill": {
     "duration": 0.02256,
     "end_time": "2023-12-02T17:01:45.975381",
     "exception": false,
     "start_time": "2023-12-02T17:01:45.952821",
     "status": "completed"
    },
    "tags": []
   },
   "outputs": [],
   "source": [
    "lr_pred = lr_model.predict(X_test)"
   ]
  },
  {
   "cell_type": "code",
   "execution_count": 20,
   "id": "7b8f29da",
   "metadata": {
    "papermill": {
     "duration": 0.02387,
     "end_time": "2023-12-02T17:01:46.012715",
     "exception": false,
     "start_time": "2023-12-02T17:01:45.988845",
     "status": "completed"
    },
    "tags": []
   },
   "outputs": [
    {
     "data": {
      "text/plain": [
       "1.0"
      ]
     },
     "execution_count": 20,
     "metadata": {},
     "output_type": "execute_result"
    }
   ],
   "source": [
    "accuracy_score(y_test , lr_pred)"
   ]
  },
  {
   "cell_type": "code",
   "execution_count": 21,
   "id": "0f620c07",
   "metadata": {
    "papermill": {
     "duration": 0.029446,
     "end_time": "2023-12-02T17:01:46.055871",
     "exception": false,
     "start_time": "2023-12-02T17:01:46.026425",
     "status": "completed"
    },
    "tags": []
   },
   "outputs": [
    {
     "name": "stdout",
     "output_type": "stream",
     "text": [
      "              precision    recall  f1-score   support\n",
      "\n",
      "       DrugY       1.00      1.00      1.00        15\n",
      "       drugA       1.00      1.00      1.00         6\n",
      "       drugB       1.00      1.00      1.00         3\n",
      "       drugC       1.00      1.00      1.00         5\n",
      "       drugX       1.00      1.00      1.00        11\n",
      "\n",
      "    accuracy                           1.00        40\n",
      "   macro avg       1.00      1.00      1.00        40\n",
      "weighted avg       1.00      1.00      1.00        40\n",
      "\n"
     ]
    }
   ],
   "source": [
    "print(classification_report(y_test , lr_pred))"
   ]
  },
  {
   "cell_type": "code",
   "execution_count": 22,
   "id": "da8f8977",
   "metadata": {
    "papermill": {
     "duration": 0.337782,
     "end_time": "2023-12-02T17:01:46.407271",
     "exception": false,
     "start_time": "2023-12-02T17:01:46.069489",
     "status": "completed"
    },
    "tags": []
   },
   "outputs": [
    {
     "data": {
      "image/png": "[encoded data removed]",
      "text/plain": [
       "<Figure size 640x480 with 2 Axes>"
      ]
     },
     "metadata": {},
     "output_type": "display_data"
    }
   ],
   "source": [
    "sns.heatmap(confusion_matrix(y_test , lr_pred));"
   ]
  },
  {
   "cell_type": "markdown",
   "id": "591b81d6",
   "metadata": {
    "papermill": {
     "duration": 0.014228,
     "end_time": "2023-12-02T17:01:46.436121",
     "exception": false,
     "start_time": "2023-12-02T17:01:46.421893",
     "status": "completed"
    },
    "tags": []
   },
   "source": [
    "### **2. Random Forest**"
   ]
  },
  {
   "cell_type": "code",
   "execution_count": 23,
   "id": "b83e8d03",
   "metadata": {
    "papermill": {
     "duration": 0.39176,
     "end_time": "2023-12-02T17:01:46.841840",
     "exception": false,
     "start_time": "2023-12-02T17:01:46.450080",
     "status": "completed"
    },
    "tags": []
   },
   "outputs": [
    {
     "data": {
      "text/html": [
       "<style>#sk-container-id-2 {color: black;}#sk-container-id-2 pre{padding: 0;}#sk-container-id-2 div.sk-toggleable {background-color: white;}#sk-container-id-2 label.sk-toggleable__label {cursor: pointer;display: block;width: 100%;margin-bottom: 0;padding: 0.3em;box-sizing: border-box;text-align: center;}#sk-container-id-2 label.sk-toggleable__label-arrow:before {content: \"▸\";float: left;margin-right: 0.25em;color: #696969;}#sk-container-id-2 label.sk-toggleable__label-arrow:hover:before {color: black;}#sk-container-id-2 div.sk-estimator:hover label.sk-toggleable__label-arrow:before {color: black;}#sk-container-id-2 div.sk-toggleable__content {max-height: 0;max-width: 0;overflow: hidden;text-align: left;background-color: #f0f8ff;}#sk-container-id-2 div.sk-toggleable__content pre {margin: 0.2em;color: black;border-radius: 0.25em;background-color: #f0f8ff;}#sk-container-id-2 input.sk-toggleable__control:checked~div.sk-toggleable__content {max-height: 200px;max-width: 100%;overflow: auto;}#sk-container-id-2 input.sk-toggleable__control:checked~label.sk-toggleable__label-arrow:before {content: \"▾\";}#sk-container-id-2 div.sk-estimator input.sk-toggleable__control:checked~label.sk-toggleable__label {background-color: #d4ebff;}#sk-container-id-2 div.sk-label input.sk-toggleable__control:checked~label.sk-toggleable__label {background-color: #d4ebff;}#sk-container-id-2 input.sk-hidden--visually {border: 0;clip: rect(1px 1px 1px 1px);clip: rect(1px, 1px, 1px, 1px);height: 1px;margin: -1px;overflow: hidden;padding: 0;position: absolute;width: 1px;}#sk-container-id-2 div.sk-estimator {font-family: monospace;background-color: #f0f8ff;border: 1px dotted black;border-radius: 0.25em;box-sizing: border-box;margin-bottom: 0.5em;}#sk-container-id-2 div.sk-estimator:hover {background-color: #d4ebff;}#sk-container-id-2 div.sk-parallel-item::after {content: \"\";width: 100%;border-bottom: 1px solid gray;flex-grow: 1;}#sk-container-id-2 div.sk-label:hover label.sk-toggleable__label {background-color: #d4ebff;}#sk-container-id-2 div.sk-serial::before {content: \"\";position: absolute;border-left: 1px solid gray;box-sizing: border-box;top: 0;bottom: 0;left: 50%;z-index: 0;}#sk-container-id-2 div.sk-serial {display: flex;flex-direction: column;align-items: center;background-color: white;padding-right: 0.2em;padding-left: 0.2em;position: relative;}#sk-container-id-2 div.sk-item {position: relative;z-index: 1;}#sk-container-id-2 div.sk-parallel {display: flex;align-items: stretch;justify-content: center;background-color: white;position: relative;}#sk-container-id-2 div.sk-item::before, #sk-container-id-2 div.sk-parallel-item::before {content: \"\";position: absolute;border-left: 1px solid gray;box-sizing: border-box;top: 0;bottom: 0;left: 50%;z-index: -1;}#sk-container-id-2 div.sk-parallel-item {display: flex;flex-direction: column;z-index: 1;position: relative;background-color: white;}#sk-container-id-2 div.sk-parallel-item:first-child::after {align-self: flex-end;width: 50%;}#sk-container-id-2 div.sk-parallel-item:last-child::after {align-self: flex-start;width: 50%;}#sk-container-id-2 div.sk-parallel-item:only-child::after {width: 0;}#sk-container-id-2 div.sk-dashed-wrapped {border: 1px dashed gray;margin: 0 0.4em 0.5em 0.4em;box-sizing: border-box;padding-bottom: 0.4em;background-color: white;}#sk-container-id-2 div.sk-label label {font-family: monospace;font-weight: bold;display: inline-block;line-height: 1.2em;}#sk-container-id-2 div.sk-label-container {text-align: center;}#sk-container-id-2 div.sk-container {/* jupyter's `normalize.less` sets `[hidden] { display: none; }` but bootstrap.min.css set `[hidden] { display: none !important; }` so we also need the `!important` here to be able to override the default hidden behavior on the sphinx rendered scikit-learn.org. See: https://github.com/scikit-learn/scikit-learn/issues/21755 */display: inline-block !important;position: relative;}#sk-container-id-2 div.sk-text-repr-fallback {display: none;}</style><div id=\"sk-container-id-2\" class=\"sk-top-container\"><div class=\"sk-text-repr-fallback\"><pre>RandomForestClassifier(n_estimators=200)</pre><b>In a Jupyter environment, please rerun this cell to show the HTML representation or trust the notebook. <br />On GitHub, the HTML representation is unable to render, please try loading this page with nbviewer.org.</b></div><div class=\"sk-container\" hidden><div class=\"sk-item\"><div class=\"sk-estimator sk-toggleable\"><input class=\"sk-toggleable__control sk-hidden--visually\" id=\"sk-estimator-id-2\" type=\"checkbox\" checked><label for=\"sk-estimator-id-2\" class=\"sk-toggleable__label sk-toggleable__label-arrow\">RandomForestClassifier</label><div class=\"sk-toggleable__content\"><pre>RandomForestClassifier(n_estimators=200)</pre></div></div></div></div></div>"
      ],
      "text/plain": [
       "RandomForestClassifier(n_estimators=200)"
      ]
     },
     "execution_count": 23,
     "metadata": {},
     "output_type": "execute_result"
    }
   ],
   "source": [
    "RF_model = RandomForestClassifier(n_estimators= 200)\n",
    "RF_model.fit(X_train , y_train)"
   ]
  },
  {
   "cell_type": "code",
   "execution_count": 24,
   "id": "c12bc911",
   "metadata": {
    "papermill": {
     "duration": 0.045412,
     "end_time": "2023-12-02T17:01:46.902981",
     "exception": false,
     "start_time": "2023-12-02T17:01:46.857569",
     "status": "completed"
    },
    "tags": []
   },
   "outputs": [
    {
     "data": {
      "text/plain": [
       "1.0"
      ]
     },
     "execution_count": 24,
     "metadata": {},
     "output_type": "execute_result"
    }
   ],
   "source": [
    "RF_model.score(X_train , y_train)"
   ]
  },
  {
   "cell_type": "code",
   "execution_count": 25,
   "id": "630e7ec4",
   "metadata": {
    "papermill": {
     "duration": 0.03633,
     "end_time": "2023-12-02T17:01:46.954064",
     "exception": false,
     "start_time": "2023-12-02T17:01:46.917734",
     "status": "completed"
    },
    "tags": []
   },
   "outputs": [],
   "source": [
    "RF_pred = RF_model.predict(X_test)"
   ]
  },
  {
   "cell_type": "code",
   "execution_count": 26,
   "id": "aa6b80a3",
   "metadata": {
    "papermill": {
     "duration": 0.023789,
     "end_time": "2023-12-02T17:01:46.992817",
     "exception": false,
     "start_time": "2023-12-02T17:01:46.969028",
     "status": "completed"
    },
    "tags": []
   },
   "outputs": [
    {
     "data": {
      "text/plain": [
       "1.0"
      ]
     },
     "execution_count": 26,
     "metadata": {},
     "output_type": "execute_result"
    }
   ],
   "source": [
    "accuracy_score(y_test , RF_pred)"
   ]
  },
  {
   "cell_type": "code",
   "execution_count": 27,
   "id": "4684e484",
   "metadata": {
    "papermill": {
     "duration": 0.030462,
     "end_time": "2023-12-02T17:01:47.037881",
     "exception": false,
     "start_time": "2023-12-02T17:01:47.007419",
     "status": "completed"
    },
    "tags": []
   },
   "outputs": [
    {
     "name": "stdout",
     "output_type": "stream",
     "text": [
      "              precision    recall  f1-score   support\n",
      "\n",
      "       DrugY       1.00      1.00      1.00        15\n",
      "       drugA       1.00      1.00      1.00         6\n",
      "       drugB       1.00      1.00      1.00         3\n",
      "       drugC       1.00      1.00      1.00         5\n",
      "       drugX       1.00      1.00      1.00        11\n",
      "\n",
      "    accuracy                           1.00        40\n",
      "   macro avg       1.00      1.00      1.00        40\n",
      "weighted avg       1.00      1.00      1.00        40\n",
      "\n"
     ]
    }
   ],
   "source": [
    "print(classification_report(y_test , RF_pred))"
   ]
  },
  {
   "cell_type": "code",
   "execution_count": 28,
   "id": "74246ce8",
   "metadata": {
    "papermill": {
     "duration": 0.338443,
     "end_time": "2023-12-02T17:01:47.390754",
     "exception": false,
     "start_time": "2023-12-02T17:01:47.052311",
     "status": "completed"
    },
    "tags": []
   },
   "outputs": [
    {
     "data": {
      "image/png": "[encoded data removed]",
      "text/plain": [
       "<Figure size 640x480 with 2 Axes>"
      ]
     },
     "metadata": {},
     "output_type": "display_data"
    }
   ],
   "source": [
    "sns.heatmap(confusion_matrix(y_test , RF_pred));"
   ]
  },
  {
   "cell_type": "markdown",
   "id": "decd12a5",
   "metadata": {
    "papermill": {
     "duration": 0.014584,
     "end_time": "2023-12-02T17:01:47.420462",
     "exception": false,
     "start_time": "2023-12-02T17:01:47.405878",
     "status": "completed"
    },
    "tags": []
   },
   "source": [
    "## **Highest Influencing Features**"
   ]
  },
  {
   "cell_type": "code",
   "execution_count": 29,
   "id": "2b3384fe",
   "metadata": {
    "papermill": {
     "duration": 0.022421,
     "end_time": "2023-12-02T17:01:47.457721",
     "exception": false,
     "start_time": "2023-12-02T17:01:47.435300",
     "status": "completed"
    },
    "tags": []
   },
   "outputs": [],
   "source": [
    "features = X_test.columns\n",
    "importance_f = lr_model.coef_[0]"
   ]
  },
  {
   "cell_type": "code",
   "execution_count": 30,
   "id": "07d40a5f",
   "metadata": {
    "papermill": {
     "duration": 0.230173,
     "end_time": "2023-12-02T17:01:47.703020",
     "exception": false,
     "start_time": "2023-12-02T17:01:47.472847",
     "status": "completed"
    },
    "tags": []
   },
   "outputs": [
    {
     "data": {
      "image/png": "[encoded data removed]",
      "text/plain": [
       "<Figure size 640x480 with 1 Axes>"
      ]
     },
     "metadata": {},
     "output_type": "display_data"
    }
   ],
   "source": [
    "feat_imp = pd.Series(importance_f , index=features).sort_values()\n",
    "feat_imp.tail().plot(kind= 'barh')\n",
    "plt.xlabel(\"Value\")\n",
    "plt.ylabel(\"Features\")\n",
    "plt.title(\"Feature Importance\");"
   ]
  },
  {
   "cell_type": "markdown",
   "id": "b5b42581",
   "metadata": {
    "papermill": {
     "duration": 0.015536,
     "end_time": "2023-12-02T17:01:47.734588",
     "exception": false,
     "start_time": "2023-12-02T17:01:47.719052",
     "status": "completed"
    },
    "tags": []
   },
   "source": [
    "## **Conclusion**"
   ]
  },
  {
   "cell_type": "markdown",
   "id": "ab9134af",
   "metadata": {
    "papermill": {
     "duration": 0.015418,
     "end_time": "2023-12-02T17:01:47.765147",
     "exception": false,
     "start_time": "2023-12-02T17:01:47.749729",
     "status": "completed"
    },
    "tags": []
   },
   "source": [
    "#### At last i used 2 models logitic regression model and random forest model both got 100% accuracy in both training and testing"
   ]
  }
 ],
 "metadata": {
  "kaggle": {
   "accelerator": "gpu",
   "dataSources": [
    {
     "datasetId": 830916,
     "sourceId": 1419436,
     "sourceType": "datasetVersion"
    }
   ],
   "dockerImageVersionId": 30588,
   "isGpuEnabled": true,
   "isInternetEnabled": true,
   "language": "python",
   "sourceType": "notebook"
  },
  "kernelspec": {
   "display_name": "Python 3 (ipykernel)",
   "language": "python",
   "name": "python3"
  },
  "language_info": {
   "codemirror_mode": {
    "name": "ipython",
    "version": 3
   },
   "file_extension": ".py",
   "mimetype": "text/x-python",
   "name": "python",
   "nbconvert_exporter": "python",
   "pygments_lexer": "ipython3",
   "version": "3.11.3"
  },
  "papermill": {
   "default_parameters": {},
   "duration": 12.011042,
   "end_time": "2023-12-02T17:01:48.300155",
   "environment_variables": {},
   "exception": null,
   "input_path": "__notebook__.ipynb",
   "output_path": "__notebook__.ipynb",
   "parameters": {},
   "start_time": "2023-12-02T17:01:36.289113",
   "version": "2.4.0"
  }
 },
 "nbformat": 4,
 "nbformat_minor": 5
}
